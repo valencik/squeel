{
 "cells": [
  {
   "cell_type": "code",
   "execution_count": 1,
   "metadata": {},
   "outputs": [],
   "source": [
    "from collections import defaultdict\n",
    "import copy\n",
    "import sys\n",
    "from typing import Any, Callable, Dict, KeysView, List, Sequence, Tuple\n",
    "\n",
    "DEBUG = False\n",
    "def log(msg: str) -> None:\n",
    "    if DEBUG:\n",
    "        print(msg)\n",
    "\n",
    "def sql(q: str) -> Dict[str, List[Any]]:\n",
    "    # Don't parse SQL with regex, that's bad\n",
    "    # Instead, split on whitespace!\n",
    "    qws = q.lower().split()\n",
    "    fromi = qws.index(\"from\")\n",
    "    joini = qws.index(\"join\") if \"join\" in qws else len(qws)\n",
    "    wherei = qws.index(\"where\") if \"where\" in qws else len(qws)\n",
    "    cols = qws[1:fromi]\n",
    "    \n",
    "    # FROM clause handling, pluck the relations from memory and enumerate them\n",
    "    join = qws[joini:wherei]\n",
    "    if len(join) > 0:\n",
    "        from_tablename = qws[fromi:joini]\n",
    "        join_tablename = qws[joini:wherei]\n",
    "        join_clause = qws[joini+3:wherei]\n",
    "        table = parse_join(from_tablename, join_tablename, join_clause)\n",
    "    else:\n",
    "        table = parse_relation(qws[fromi:joini])\n",
    "    \n",
    "    # WHERE clause handling\n",
    "    filtered_table = table\n",
    "    where_cols, where_func = parse_where(qws[wherei:], table.keys())\n",
    "    if where_cols:\n",
    "        tuple_table = zip(*[table[c].values() for c in where_cols])\n",
    "        filtered_table = copy.deepcopy(table)\n",
    "        for i, tup in enumerate(tuple_table):\n",
    "            if not where_func(*tup):\n",
    "                for k, v in filtered_table.items():\n",
    "                    del v[i]\n",
    "    \n",
    "    # SELECT clause handling and removing the row index\n",
    "    select_cols = parse_cols(cols)\n",
    "    results = {}     \n",
    "    for col in select_cols:\n",
    "        results[col] = list(filtered_table[col].values())\n",
    "    return results\n",
    "\n",
    "\n",
    "def parse_join(from_tablename, join_tablename, join_clause):\n",
    "    from_table = parse_relation(from_tablename)\n",
    "    join_table = parse_relation(join_tablename)\n",
    "    left, op, right = join_clause\n",
    "    left_db, left_col = left.split(\".\")\n",
    "    right_db, right_col = right.split(\".\")\n",
    "   \n",
    "    hashed_left = defaultdict(list)\n",
    "    for i, v in from_table[left_col].items():\n",
    "        hashed_left[v].append([v[i] for v in from_table.values()])\n",
    "    if op == \"=\":\n",
    "        ts = [tuple(ls) + tuple(jv[i] for jv in join_table.values()) for i, v in join_table[right_col].items() for ls in hashed_left[v]]\n",
    "        unzipped = list(zip(*ts))\n",
    "        cols = enumerate(list(from_table.keys()) + list(join_table.keys()))\n",
    "        results = {col: {ii: vv for ii, vv in enumerate(unzipped[i])} for i, col in cols}\n",
    "        return results\n",
    "                \n",
    "    return db_tables[from_tablename]\n",
    "        \n",
    "\n",
    "def parse_relation(relation: List[str]) -> Dict[str, Dict[int, Any]]:\n",
    "    tablename = relation[1]\n",
    "    try:\n",
    "        table = getattr(sys.modules[__name__], tablename)\n",
    "        dicty_table = {col: {i: v for i, v in enumerate(vals)} for col, vals in table.items()}\n",
    "        log(f\"parse_relation> found relation: {tablename}\")\n",
    "        return dicty_table\n",
    "    except AttributeError:\n",
    "        print(f\"ERROR: Could not find relation '{tablename}'\")\n",
    "        raise\n",
    "\n",
    "        \n",
    "def parse_where(where: List[str], table_cols: KeysView[str]) -> Tuple[List[str], Callable[[Sequence], Any]]:\n",
    "    if len(where) == 0:\n",
    "        return ([], lambda x: x)\n",
    "    where_func = \" \".join(where[1:])\n",
    "    used_columns = [tc for tc in table_cols if tc in where_func]\n",
    "    lambda_string = f\"lambda {', '.join(used_columns)}: {where_func}\"\n",
    "    log(f\"parse_where> columns in WHERE clause: {used_columns}\")\n",
    "    log(f\"parse_where> lambda string: {lambda_string}\")\n",
    "    return (used_columns, eval(lambda_string))\n",
    "    \n",
    "    \n",
    "def parse_cols(cols: List[str]) -> List[str]:\n",
    "    end = len(cols) - 1\n",
    "    select_cols = []\n",
    "    for i, col in enumerate(cols):\n",
    "        if i == end or col.endswith(\",\"):\n",
    "            select_cols.append(col.rstrip(\",\"))\n",
    "        else:\n",
    "            print(\"WARNING: aliases not yet supported: \", col)\n",
    "    log(f\"parse_cols> selection columns: {select_cols}\")\n",
    "    return select_cols"
   ]
  },
  {
   "cell_type": "code",
   "execution_count": 2,
   "metadata": {},
   "outputs": [],
   "source": [
    "users = {\n",
    "    \"name\": [\"andrew\", \"dave\", \"alicia\"],\n",
    "    \"food\": [\"pizza\", \"eggs\", \"poutine\"]}\n",
    "restaurants = {\n",
    "    \"place\": [\"Rugova's\", \"Willie's\"],\n",
    "    \"food\": [\"pizza\", \"poutine\"]}"
   ]
  },
  {
   "cell_type": "code",
   "execution_count": 3,
   "metadata": {},
   "outputs": [
    {
     "data": {
      "text/plain": [
       "{'name': ['andrew', 'dave', 'alicia'], 'food': ['pizza', 'eggs', 'poutine']}"
      ]
     },
     "execution_count": 3,
     "metadata": {},
     "output_type": "execute_result"
    }
   ],
   "source": [
    "sql(\"select name, food from users\")"
   ]
  },
  {
   "cell_type": "code",
   "execution_count": 4,
   "metadata": {},
   "outputs": [
    {
     "data": {
      "text/plain": [
       "{'name': ['andrew', 'alicia']}"
      ]
     },
     "execution_count": 4,
     "metadata": {},
     "output_type": "execute_result"
    }
   ],
   "source": [
    "sql(\"\"\"select name from users where name.startswith(\"a\")\"\"\")"
   ]
  },
  {
   "cell_type": "code",
   "execution_count": 5,
   "metadata": {},
   "outputs": [
    {
     "data": {
      "text/plain": [
       "{'name': [], 'food': []}"
      ]
     },
     "execution_count": 5,
     "metadata": {},
     "output_type": "execute_result"
    }
   ],
   "source": [
    "sql(\"\"\"select name, food from users where food.endswith(\"t\")\"\"\")"
   ]
  },
  {
   "cell_type": "code",
   "execution_count": 6,
   "metadata": {},
   "outputs": [
    {
     "data": {
      "text/plain": [
       "{'name': ['andrew'], 'food': ['pizza']}"
      ]
     },
     "execution_count": 6,
     "metadata": {},
     "output_type": "execute_result"
    }
   ],
   "source": [
    "sql(\"\"\"select name, food from users where 'a' in food\"\"\")"
   ]
  },
  {
   "cell_type": "code",
   "execution_count": 7,
   "metadata": {},
   "outputs": [
    {
     "data": {
      "text/plain": [
       "{'name': ['dave'], 'food': ['eggs']}"
      ]
     },
     "execution_count": 7,
     "metadata": {},
     "output_type": "execute_result"
    }
   ],
   "source": [
    "sql(\"\"\"select name, food from users where 'egg' in food and name.startswith(\"d\")\"\"\")"
   ]
  },
  {
   "cell_type": "code",
   "execution_count": 8,
   "metadata": {},
   "outputs": [
    {
     "data": {
      "text/plain": [
       "{'name': ['andrew', 'alicia'],\n",
       " 'place': [\"Rugova's\", \"Willie's\"],\n",
       " 'food': ['pizza', 'poutine']}"
      ]
     },
     "execution_count": 8,
     "metadata": {},
     "output_type": "execute_result"
    }
   ],
   "source": [
    "sql(\"\"\"\n",
    "select name, place, food\n",
    "from users join restaurants on users.food = restaurants.food\n",
    "\"\"\")"
   ]
  },
  {
   "cell_type": "code",
   "execution_count": 9,
   "metadata": {},
   "outputs": [
    {
     "data": {
      "text/plain": [
       "{'name': ['alicia'], 'place': [\"Willie's\"], 'food': ['poutine']}"
      ]
     },
     "execution_count": 9,
     "metadata": {},
     "output_type": "execute_result"
    }
   ],
   "source": [
    "sql(\"\"\"\n",
    "select name, place, food\n",
    "from users join restaurants on restaurants.food = users.food\n",
    "where name.endswith(\"a\")\n",
    "\"\"\")"
   ]
  },
  {
   "cell_type": "code",
   "execution_count": 10,
   "metadata": {},
   "outputs": [
    {
     "name": "stdout",
     "output_type": "stream",
     "text": [
      "{'name': ['andrew', 'alicia', 'alicia', 'jon'], 'place': [\"Rugova's\", \"Willie's\", \"Rugova's\", \"Rugova's\"]}\n"
     ]
    }
   ],
   "source": [
    "invites = {\n",
    "    \"name\": [\"andrew\", \"dave\", \"alicia\", \"jon\"],\n",
    "    \"status\": [\"accepted\", \"decline\", \"accepted\", \"accepted\"]}\n",
    "users = {\n",
    "    \"name\": [\"andrew\", \"dave\", \"alicia\", \"alicia\", \"jon\"],\n",
    "    \"food\": [\"pizza\", \"eggs\", \"poutine\", \"pizza\", \"pizza\"]}\n",
    "places = {\n",
    "    \"place\": [\"Rugova's\", \"Willie's\", \"Weird Egg Bar\"],\n",
    "    \"food\": [\"pizza\", \"poutine\", \"eggs\"]}\n",
    "\n",
    "\n",
    "# Who's coming to the party and what do they eat?\n",
    "people_going = sql(\"\"\"\n",
    "    select name, food\n",
    "    from users join invites on users.name = invites.name\n",
    "    where status == \"accepted\"\n",
    "    \"\"\")\n",
    "\n",
    "# Where can we order from for the party?\n",
    "# Note: Here we are joining against the results of the previous query!\n",
    "orders = sql(\"\"\"\n",
    "    select name, place\n",
    "    from places join people_going on places.food = people_going.food\n",
    "    \"\"\")\n",
    "\n",
    "print(orders)"
   ]
  }
 ],
 "metadata": {
  "kernelspec": {
   "display_name": "Python 3",
   "language": "python",
   "name": "python3"
  },
  "language_info": {
   "codemirror_mode": {
    "name": "ipython",
    "version": 3
   },
   "file_extension": ".py",
   "mimetype": "text/x-python",
   "name": "python",
   "nbconvert_exporter": "python",
   "pygments_lexer": "ipython3",
   "version": "3.6.8"
  }
 },
 "nbformat": 4,
 "nbformat_minor": 2
}
